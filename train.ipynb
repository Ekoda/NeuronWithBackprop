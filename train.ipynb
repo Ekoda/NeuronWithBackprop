{
 "cells": [
  {
   "cell_type": "code",
   "execution_count": 4,
   "metadata": {},
   "outputs": [],
   "source": [
    "import pandas as pd\n",
    "from sklearn.model_selection import train_test_split\n",
    "\n",
    "df = pd.read_csv('creatures.csv')\n",
    "X, y = df[['height', 'color']].to_numpy(), df['species'].to_numpy()\n",
    "X_train, X_val, y_train, y_val = train_test_split(X, y, test_size=0.2, random_state=42)"
   ]
  },
  {
   "cell_type": "code",
   "execution_count": 5,
   "metadata": {},
   "outputs": [
    {
     "name": "stdout",
     "output_type": "stream",
     "text": [
      "Epoch: 0, Loss: 0.8949669225081763\n",
      "Epoch: 1, Loss: 0.7625511417238917\n",
      "Epoch: 2, Loss: 0.6769029565451908\n",
      "Epoch: 3, Loss: 0.6125922934787671\n",
      "Epoch: 4, Loss: 0.5638086860170402\n",
      "Epoch: 5, Loss: 0.5261305979098998\n",
      "Epoch: 6, Loss: 0.4963250451406358\n",
      "Epoch: 7, Loss: 0.4720902211660148\n",
      "Epoch: 8, Loss: 0.45181723598770934\n",
      "Epoch: 9, Loss: 0.43439496849134507\n",
      "Epoch: 10, Loss: 0.4190604100335021\n",
      "Epoch: 20, Loss: 0.31597712207274764\n",
      "Epoch: 30, Loss: 0.2503463566331309\n",
      "Epoch: 40, Loss: 0.20401804911098348\n",
      "Epoch: 50, Loss: 0.17047799594204024\n"
     ]
    }
   ],
   "source": [
    "from neuron import Neuron\n",
    "\n",
    "model = Neuron(n_inputs=2)\n",
    "model.train(X_train, y_train, epochs=50)"
   ]
  },
  {
   "cell_type": "code",
   "execution_count": 6,
   "metadata": {},
   "outputs": [
    {
     "name": "stdout",
     "output_type": "stream",
     "text": [
      "Accuracy: 100.0%\n",
      "10\n"
     ]
    }
   ],
   "source": [
    "\n",
    "correct = 0\n",
    "for Xi, yi in zip(X_val, y_val):\n",
    "    prediction, loss = model.forward_pass(Xi, yi)\n",
    "    correct += 1 if (prediction > 0.5 and yi == 1) or (prediction <= 0.5 and yi == 0) else 0\n",
    "\n",
    "print(f\"Accuracy: {correct / len(X_val) * 100}%\")\n",
    "print(correct)"
   ]
  }
 ],
 "metadata": {
  "kernelspec": {
   "display_name": "base",
   "language": "python",
   "name": "python3"
  },
  "language_info": {
   "codemirror_mode": {
    "name": "ipython",
    "version": 3
   },
   "file_extension": ".py",
   "mimetype": "text/x-python",
   "name": "python",
   "nbconvert_exporter": "python",
   "pygments_lexer": "ipython3",
   "version": "3.9.17"
  }
 },
 "nbformat": 4,
 "nbformat_minor": 2
}
