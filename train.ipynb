{
 "cells": [
  {
   "cell_type": "code",
   "execution_count": 23,
   "metadata": {},
   "outputs": [],
   "source": [
    "import pandas as pd\n",
    "from sklearn.model_selection import train_test_split\n",
    "\n",
    "df = pd.read_csv('creatures.csv')\n",
    "X, y = df[['height', 'color']].to_numpy(), df['species'].to_numpy()\n",
    "X_train, X_val, y_train, y_val = train_test_split(X, y, test_size=0.2, random_state=42)"
   ]
  },
  {
   "cell_type": "code",
   "execution_count": 24,
   "metadata": {},
   "outputs": [
    {
     "name": "stdout",
     "output_type": "stream",
     "text": [
      "Epoch: 0, Loss: 0.88362852074516\n",
      "Epoch: 1, Loss: 0.7557210261677318\n",
      "Epoch: 2, Loss: 0.6700400449922681\n",
      "Epoch: 3, Loss: 0.6057990247925436\n",
      "Epoch: 4, Loss: 0.5571332264508769\n",
      "Epoch: 5, Loss: 0.5195934839956327\n",
      "Epoch: 6, Loss: 0.489934667601604\n",
      "Epoch: 7, Loss: 0.46585020744555583\n",
      "Epoch: 8, Loss: 0.4457295437111378\n",
      "Epoch: 9, Loss: 0.4284609641849858\n",
      "Epoch: 10, Loss: 0.4132811083093436\n",
      "Epoch: 20, Loss: 0.3116997239848057\n",
      "Epoch: 30, Loss: 0.24727977233463783\n",
      "Epoch: 40, Loss: 0.20182090643536205\n",
      "Epoch: 50, Loss: 0.16887836067284023\n"
     ]
    }
   ],
   "source": [
    "from neuron import Neuron\n",
    "\n",
    "model = Neuron(n_inputs=2)\n",
    "model.train(X_train, y_train, epochs=50)"
   ]
  },
  {
   "cell_type": "code",
   "execution_count": 26,
   "metadata": {},
   "outputs": [
    {
     "name": "stdout",
     "output_type": "stream",
     "text": [
      "Accuracy: 100.0%\n",
      "10\n"
     ]
    }
   ],
   "source": [
    "\n",
    "correct = 0\n",
    "for Xi, yi in zip(X_val, y_val):\n",
    "    prediction, loss = model.forward_pass(Xi, yi)\n",
    "    correct += 1 if (prediction > 0.5 and yi == 1) or (prediction <= 0.5 and yi == 0) else 0\n",
    "\n",
    "print(f\"Accuracy: {correct / len(X_val) * 100}%\")\n",
    "print(correct)"
   ]
  }
 ],
 "metadata": {
  "kernelspec": {
   "display_name": "base",
   "language": "python",
   "name": "python3"
  },
  "language_info": {
   "codemirror_mode": {
    "name": "ipython",
    "version": 3
   },
   "file_extension": ".py",
   "mimetype": "text/x-python",
   "name": "python",
   "nbconvert_exporter": "python",
   "pygments_lexer": "ipython3",
   "version": "3.9.13"
  }
 },
 "nbformat": 4,
 "nbformat_minor": 2
}
