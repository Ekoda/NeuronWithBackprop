{
 "cells": [
  {
   "cell_type": "code",
   "execution_count": 7,
   "metadata": {},
   "outputs": [],
   "source": [
    "import pandas as pd\n",
    "from sklearn.model_selection import train_test_split\n",
    "\n",
    "df = pd.read_csv('creatures.csv')\n",
    "X, y = df[['height', 'color']].to_numpy(), df['species'].to_numpy()\n",
    "X_train, X_val, y_train, y_val = train_test_split(X, y, test_size=0.2, random_state=42)"
   ]
  },
  {
   "cell_type": "code",
   "execution_count": 8,
   "metadata": {},
   "outputs": [
    {
     "name": "stdout",
     "output_type": "stream",
     "text": [
      "Epoch: 0, Loss: 0.8272441102776151\n",
      "Epoch: 1, Loss: 0.7176510397497953\n",
      "Epoch: 2, Loss: 0.6413959027902649\n",
      "Epoch: 3, Loss: 0.584050989743381\n",
      "Epoch: 4, Loss: 0.5403334173896802\n",
      "Epoch: 5, Loss: 0.5063077917808604\n",
      "Epoch: 6, Loss: 0.47913739141894923\n",
      "Epoch: 7, Loss: 0.45682215338390453\n",
      "Epoch: 8, Loss: 0.43797310976621306\n",
      "Epoch: 9, Loss: 0.4216342766520874\n",
      "Epoch: 10, Loss: 0.4071494563493435\n",
      "Epoch: 20, Loss: 0.30825023898377835\n",
      "Epoch: 30, Loss: 0.2448810658692066\n",
      "Epoch: 40, Loss: 0.20010084475092285\n",
      "Epoch: 50, Loss: 0.1676164875328052\n"
     ]
    }
   ],
   "source": [
    "from neuron import Neuron\n",
    "\n",
    "model = Neuron(n_inputs=2)\n",
    "model.train(X_train, y_train, epochs=50)"
   ]
  },
  {
   "cell_type": "code",
   "execution_count": 9,
   "metadata": {},
   "outputs": [
    {
     "name": "stdout",
     "output_type": "stream",
     "text": [
      "Accuracy: 100.0%\n",
      "10\n"
     ]
    }
   ],
   "source": [
    "\n",
    "correct = 0\n",
    "for Xi, yi in zip(X_val, y_val):\n",
    "    prediction, loss = model.forward_pass(Xi, yi)\n",
    "    correct += 1 if (prediction > 0.5 and yi == 1) or (prediction <= 0.5 and yi == 0) else 0\n",
    "\n",
    "print(f\"Accuracy: {correct / len(X_val) * 100}%\")\n",
    "print(correct)"
   ]
  }
 ],
 "metadata": {
  "kernelspec": {
   "display_name": "base",
   "language": "python",
   "name": "python3"
  },
  "language_info": {
   "codemirror_mode": {
    "name": "ipython",
    "version": 3
   },
   "file_extension": ".py",
   "mimetype": "text/x-python",
   "name": "python",
   "nbconvert_exporter": "python",
   "pygments_lexer": "ipython3",
   "version": "3.9.17"
  }
 },
 "nbformat": 4,
 "nbformat_minor": 2
}
